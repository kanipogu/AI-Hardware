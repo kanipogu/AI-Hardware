{
  "nbformat": 4,
  "nbformat_minor": 0,
  "metadata": {
    "colab": {
      "provenance": []
    },
    "kernelspec": {
      "name": "python3",
      "display_name": "Python 3"
    },
    "language_info": {
      "name": "python"
    }
  },
  "cells": [
    {
      "cell_type": "code",
      "source": [
        "import numpy as np\n",
        "import matplotlib.pyplot as plt\n",
        "\n",
        "# === Memristor Parameters ===\n",
        "Ron = 1e3         # Low resistance\n",
        "Roff = 100e3      # High resistance\n",
        "D = 10e-9         # Device length\n",
        "uv = 10e-14       # Mobility\n",
        "p = 10            # Window function power\n",
        "Rinit = 80e3      # Initial resistance\n",
        "\n",
        "# === Simulation Parameters ===\n",
        "dt = 1e-5         # Time step\n",
        "T = 0.02          # Total time (20ms)\n",
        "t = np.arange(0, T, dt)\n",
        "v_in = 5 * np.sin(2 * np.pi * 1000 * t)  # 1kHz sine wave, 5V peak\n",
        "\n",
        "# === Initialize Arrays ===\n",
        "x = np.zeros_like(t)\n",
        "x[0] = (Roff - Rinit) / (Roff - Ron)  # Normalize initial resistance\n",
        "i_out = np.zeros_like(t)\n",
        "R_mem = np.zeros_like(t)\n",
        "\n",
        "# === Biolek window function ===\n",
        "def f(x, polarity, p):\n",
        "    return 1 - (2*x - 1)**(2*p)\n",
        "\n",
        "# === Simulation Loop ===\n",
        "for n in range(1, len(t)):\n",
        "    R_mem[n] = Ron * x[n-1] + Roff * (1 - x[n-1])\n",
        "    i_out[n] = v_in[n] / R_mem[n]\n",
        "    polarity = np.sign(i_out[n])\n",
        "    dx = dt * (uv * Ron / D**2) * i_out[n] * f(x[n-1], polarity, p)\n",
        "    x[n] = np.clip(x[n-1] + dx, 0, 1)\n",
        "\n",
        "# Final values\n",
        "R_mem[-1] = Ron * x[-1] + Roff * (1 - x[-1])\n",
        "i_out[-1] = v_in[-1] / R_mem[-1]\n",
        "\n",
        "# === Plot I-V Curve ===\n",
        "plt.figure(figsize=(8, 6))\n",
        "plt.plot(v_in, i_out, color='darkred')\n",
        "plt.title('Memristor I–V Hysteresis Loop (Python Simulation)')\n",
        "plt.xlabel('Voltage (V)')\n",
        "plt.ylabel('Current (A)')\n",
        "plt.grid(True)\n",
        "plt.tight_layout()\n",
        "plt.show()\n"
      ],
      "metadata": {
        "colab": {
          "base_uri": "https://localhost:8080/",
          "height": 607
        },
        "id": "0sEjTUX5IxIY",
        "outputId": "a9cb5eee-cdad-46f1-bb4d-ff1bfe9e90bc"
      },
      "execution_count": 2,
      "outputs": [
        {
          "output_type": "display_data",
          "data": {
            "text/plain": [
              "<Figure size 800x600 with 1 Axes>"
            ],
            "image/png": "[encoded data removed]"
          },
          "metadata": {}
        }
      ]
    },
    {
      "cell_type": "code",
      "source": [
        "from google.colab import files\n",
        "files.download(\"memristor_iv_loop.png\")\n"
      ],
      "metadata": {
        "colab": {
          "base_uri": "https://localhost:8080/",
          "height": 17
        },
        "id": "27fe3vFUI-hB",
        "outputId": "c4378ed5-99e1-4956-c162-8f20b356a53b"
      },
      "execution_count": 4,
      "outputs": [
        {
          "output_type": "display_data",
          "data": {
            "text/plain": [
              "<IPython.core.display.Javascript object>"
            ],
            "application/javascript": [
              "\n",
              "    async function download(id, filename, size) {\n",
              "      if (!google.colab.kernel.accessAllowed) {\n",
              "        return;\n",
              "      }\n",
              "      const div = document.createElement('div');\n",
              "      const label = document.createElement('label');\n",
              "      label.textContent = `Downloading \"${filename}\": `;\n",
              "      div.appendChild(label);\n",
              "      const progress = document.createElement('progress');\n",
              "      progress.max = size;\n",
              "      div.appendChild(progress);\n",
              "      document.body.appendChild(div);\n",
              "\n",
              "      const buffers = [];\n",
              "      let downloaded = 0;\n",
              "\n",
              "      const channel = await google.colab.kernel.comms.open(id);\n",
              "      // Send a message to notify the kernel that we're ready.\n",
              "      channel.send({})\n",
              "\n",
              "      for await (const message of channel.messages) {\n",
              "        // Send a message to notify the kernel that we're ready.\n",
              "        channel.send({})\n",
              "        if (message.buffers) {\n",
              "          for (const buffer of message.buffers) {\n",
              "            buffers.push(buffer);\n",
              "            downloaded += buffer.byteLength;\n",
              "            progress.value = downloaded;\n",
              "          }\n",
              "        }\n",
              "      }\n",
              "      const blob = new Blob(buffers, {type: 'application/binary'});\n",
              "      const a = document.createElement('a');\n",
              "      a.href = window.URL.createObjectURL(blob);\n",
              "      a.download = filename;\n",
              "      div.appendChild(a);\n",
              "      a.click();\n",
              "      div.remove();\n",
              "    }\n",
              "  "
            ]
          },
          "metadata": {}
        },
        {
          "output_type": "display_data",
          "data": {
            "text/plain": [
              "<IPython.core.display.Javascript object>"
            ],
            "application/javascript": [
              "download(\"download_c5f28bf5-6f64-4261-b304-89be5852e551\", \"memristor_iv_loop.png\", 2397)"
            ]
          },
          "metadata": {}
        }
      ]
    },
    {
      "cell_type": "code",
      "source": [
        "plt.savefig(\"memristor_iv_loop.png\")\n"
      ],
      "metadata": {
        "colab": {
          "base_uri": "https://localhost:8080/",
          "height": 34
        },
        "id": "sJUXMK5EI5iR",
        "outputId": "c9b1aa87-cdc5-45dc-8a9c-a1b021793557"
      },
      "execution_count": 3,
      "outputs": [
        {
          "output_type": "display_data",
          "data": {
            "text/plain": [
              "<Figure size 640x480 with 0 Axes>"
            ]
          },
          "metadata": {}
        }
      ]
    },
    {
      "cell_type": "code",
      "execution_count": 1,
      "metadata": {
        "colab": {
          "base_uri": "https://localhost:8080/"
        },
        "id": "3blwgulmIfBP",
        "outputId": "821278b4-3eae-4ba6-9be1-51c629323207"
      },
      "outputs": [
        {
          "output_type": "stream",
          "name": "stdout",
          "text": [
            "Requirement already satisfied: numpy in /usr/local/lib/python3.11/dist-packages (2.0.2)\n",
            "Requirement already satisfied: matplotlib in /usr/local/lib/python3.11/dist-packages (3.10.0)\n",
            "Requirement already satisfied: contourpy>=1.0.1 in /usr/local/lib/python3.11/dist-packages (from matplotlib) (1.3.2)\n",
            "Requirement already satisfied: cycler>=0.10 in /usr/local/lib/python3.11/dist-packages (from matplotlib) (0.12.1)\n",
            "Requirement already satisfied: fonttools>=4.22.0 in /usr/local/lib/python3.11/dist-packages (from matplotlib) (4.58.1)\n",
            "Requirement already satisfied: kiwisolver>=1.3.1 in /usr/local/lib/python3.11/dist-packages (from matplotlib) (1.4.8)\n",
            "Requirement already satisfied: packaging>=20.0 in /usr/local/lib/python3.11/dist-packages (from matplotlib) (24.2)\n",
            "Requirement already satisfied: pillow>=8 in /usr/local/lib/python3.11/dist-packages (from matplotlib) (11.2.1)\n",
            "Requirement already satisfied: pyparsing>=2.3.1 in /usr/local/lib/python3.11/dist-packages (from matplotlib) (3.2.3)\n",
            "Requirement already satisfied: python-dateutil>=2.7 in /usr/local/lib/python3.11/dist-packages (from matplotlib) (2.9.0.post0)\n",
            "Requirement already satisfied: six>=1.5 in /usr/local/lib/python3.11/dist-packages (from python-dateutil>=2.7->matplotlib) (1.17.0)\n"
          ]
        }
      ],
      "source": [
        "!pip install numpy matplotlib\n"
      ]
    }
  ]
}